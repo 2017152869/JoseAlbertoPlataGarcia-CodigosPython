{
 "cells": [
  {
   "cell_type": "code",
   "execution_count": 1,
   "id": "1d25ee1c",
   "metadata": {},
   "outputs": [
    {
     "name": "stdout",
     "output_type": "stream",
     "text": [
      "Cantidad de resistencias?2\n",
      "R3\n",
      "Resistencia equvalente:  3.0\n",
      "R12\n",
      "Resistencia equvalente:  2.4000000000000004\n"
     ]
    }
   ],
   "source": [
    "Rt=0\n",
    "n=int (input(\"Cantidad de resistencias?\"))\n",
    "for x in range (1,n+1):\n",
    "    R=float (input(\"R\"))\n",
    "    Rt=Rt+(1/R)\n",
    "    Req=1/Rt\n",
    "    print (\"Resistencia equvalente: \",Req)\n",
    "    "
   ]
  },
  {
   "cell_type": "code",
   "execution_count": null,
   "id": "d7af842b",
   "metadata": {},
   "outputs": [],
   "source": []
  }
 ],
 "metadata": {
  "kernelspec": {
   "display_name": "Python 3",
   "language": "python",
   "name": "python3"
  },
  "language_info": {
   "codemirror_mode": {
    "name": "ipython",
    "version": 3
   },
   "file_extension": ".py",
   "mimetype": "text/x-python",
   "name": "python",
   "nbconvert_exporter": "python",
   "pygments_lexer": "ipython3",
   "version": "3.8.8"
  }
 },
 "nbformat": 4,
 "nbformat_minor": 5
}
