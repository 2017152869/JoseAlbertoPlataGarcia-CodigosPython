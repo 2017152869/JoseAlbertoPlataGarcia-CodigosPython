{
 "cells": [
  {
   "cell_type": "code",
   "execution_count": 3,
   "id": "9f8b788a",
   "metadata": {},
   "outputs": [
    {
     "name": "stdout",
     "output_type": "stream",
     "text": [
      "escribe una frase o palabra: beto\n",
      "oteb\n"
     ]
    }
   ],
   "source": [
    "def inversa():\n",
    "  string=input(\"escribe tu palabra: \")\n",
    "  cadenaInvertida = string [:: - 1 ]\n",
    "  print( cadenaInvertida )\n",
    "inversa()"
   ]
  },
  {
   "cell_type": "code",
   "execution_count": null,
   "id": "8e1746b1",
   "metadata": {},
   "outputs": [],
   "source": []
  }
 ],
 "metadata": {
  "kernelspec": {
   "display_name": "Python 3",
   "language": "python",
   "name": "python3"
  },
  "language_info": {
   "codemirror_mode": {
    "name": "ipython",
    "version": 3
   },
   "file_extension": ".py",
   "mimetype": "text/x-python",
   "name": "python",
   "nbconvert_exporter": "python",
   "pygments_lexer": "ipython3",
   "version": "3.8.8"
  }
 },
 "nbformat": 4,
 "nbformat_minor": 5
}
