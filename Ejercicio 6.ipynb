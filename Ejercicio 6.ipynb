{
 "cells": [
  {
   "cell_type": "code",
   "execution_count": 1,
   "id": "8a407f19",
   "metadata": {},
   "outputs": [
    {
     "name": "stdout",
     "output_type": "stream",
     "text": [
      "Escribe un número: 0\n",
      "Neutro\n"
     ]
    }
   ],
   "source": [
    "numero_como_cadena = input(\"Escribe un número: \")\n",
    "numero = float(numero_como_cadena)\n",
    "if numero == 0:\n",
    "    print(\"Cero\")\n",
    "elif numero < 0:\n",
    "    print(\"Negativo\")\n",
    "else:\n",
    "    print(\"Positivo\")"
   ]
  },
  {
   "cell_type": "code",
   "execution_count": null,
   "id": "441df8ef",
   "metadata": {},
   "outputs": [],
   "source": []
  }
 ],
 "metadata": {
  "kernelspec": {
   "display_name": "Python 3",
   "language": "python",
   "name": "python3"
  },
  "language_info": {
   "codemirror_mode": {
    "name": "ipython",
    "version": 3
   },
   "file_extension": ".py",
   "mimetype": "text/x-python",
   "name": "python",
   "nbconvert_exporter": "python",
   "pygments_lexer": "ipython3",
   "version": "3.8.8"
  }
 },
 "nbformat": 4,
 "nbformat_minor": 5
}
