{
 "cells": [
  {
   "cell_type": "code",
   "execution_count": 1,
   "id": "fb07313f",
   "metadata": {},
   "outputs": [
    {
     "name": "stdout",
     "output_type": "stream",
     "text": [
      "Ingresa tus datos\n",
      "Ingresa tus nombre: Jose Alberto\n",
      "Ingresa tu Telefono564646466\n",
      "Ingresa tu correojajaja@gmail.com\n",
      "tus datos son:\n",
      "Bienvenido:  Jose Alberto\n",
      "tu telefono es:  564646466\n",
      "Y Tu correo es:  jajaja@gmail.com\n"
     ]
    }
   ],
   "source": [
    "print ('Ingresa tus datos')\n",
    "\n",
    "nombre=input('Ingresa tus nombre: ')\n",
    "nombre=str(nombre)\n",
    "  \n",
    "num=input ('Ingresa tu Telefono')\n",
    "num=int (num)\n",
    "correo=input ('Ingresa tu correo')\n",
    "correo=str (correo)\n",
    "\n",
    "print(\"tus datos son:\")\n",
    "print(\"Bienvenido: \",nombre)\n",
    "print('tu telefono es: ',num)\n",
    "print('Y Tu correo es: ',correo)\n",
    "    \n",
    "\n",
    "    "
   ]
  },
  {
   "cell_type": "code",
   "execution_count": null,
   "id": "be5ba820",
   "metadata": {},
   "outputs": [],
   "source": []
  }
 ],
 "metadata": {
  "kernelspec": {
   "display_name": "Python 3",
   "language": "python",
   "name": "python3"
  },
  "language_info": {
   "codemirror_mode": {
    "name": "ipython",
    "version": 3
   },
   "file_extension": ".py",
   "mimetype": "text/x-python",
   "name": "python",
   "nbconvert_exporter": "python",
   "pygments_lexer": "ipython3",
   "version": "3.8.8"
  }
 },
 "nbformat": 4,
 "nbformat_minor": 5
}
