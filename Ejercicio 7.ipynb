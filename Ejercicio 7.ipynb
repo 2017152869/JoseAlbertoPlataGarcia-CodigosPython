{
 "cells": [
  {
   "cell_type": "code",
   "execution_count": 6,
   "id": "6911a0af",
   "metadata": {},
   "outputs": [
    {
     "name": "stdout",
     "output_type": "stream",
     "text": [
      "Dame tu edad: 19\n",
      "Dame tus ingresos: 3\n",
      "Dame tus egresos: 2\n",
      "Monto de tu prestamo? 5\n",
      "En cuantos meses deseas pagar? 2\n",
      "Monto de pago por mes es:  2.5\n"
     ]
    }
   ],
   "source": [
    "def _cuentas(prestamo,meses):\n",
    "    cuota=str (prestamo/meses)\n",
    "    return cuota\n",
    "\n",
    "def _Prestamo():\n",
    "    prestamo= int(input(\"Monto de tu prestamo? \"))\n",
    "    meses= int(input(\"En cuantos meses deseas pagar? \"))\n",
    "    print (\"Monto de pago por mes es: \",_cuentas(prestamo,meses))\n",
    "\n",
    "edad= int (input (\"Dame tu edad: \"))\n",
    "if edad >= 18:\n",
    "    ingresos=int(input(\"Dame tus ingresos: \"))\n",
    "    egresos=int(input(\"Dame tus egresos: \"))\n",
    "    if ingresos >= egresos:\n",
    "        _Prestamo()\n",
    "    else:\n",
    "        print(\"Sus ingresos deben ser mayores.\")\n",
    "\n",
    "else:\n",
    "    print (\"No eres mayor de edad.\")"
   ]
  },
  {
   "cell_type": "code",
   "execution_count": null,
   "id": "f70d9570",
   "metadata": {},
   "outputs": [],
   "source": []
  }
 ],
 "metadata": {
  "kernelspec": {
   "display_name": "Python 3",
   "language": "python",
   "name": "python3"
  },
  "language_info": {
   "codemirror_mode": {
    "name": "ipython",
    "version": 3
   },
   "file_extension": ".py",
   "mimetype": "text/x-python",
   "name": "python",
   "nbconvert_exporter": "python",
   "pygments_lexer": "ipython3",
   "version": "3.8.8"
  }
 },
 "nbformat": 4,
 "nbformat_minor": 5
}
