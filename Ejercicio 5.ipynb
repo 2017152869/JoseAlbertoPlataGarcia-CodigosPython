{
 "cells": [
  {
   "cell_type": "code",
   "execution_count": 5,
   "id": "fe0a37dc",
   "metadata": {},
   "outputs": [
    {
     "name": "stdout",
     "output_type": "stream",
     "text": [
      "Valor a:5\n",
      "Valor b:6\n",
      "Valor c:7\n",
      "el valor de x1 es:\n",
      "(-0.5999999999999999+1.0198039027185568j)\n",
      "el valor de x2 es:\n",
      "(-0.6000000000000001-1.0198039027185568j)\n"
     ]
    }
   ],
   "source": [
    "a=float(input(\"Valor a:\"))\n",
    "b=float(input(\"Valor b:\"))\n",
    "c=float(input(\"Valor c:\"))\n",
    "if a!=0:\n",
    "    x1=(-b+(((b**2)-(4*a*c))**0.5))/(2*a)\n",
    "    x2=(-b-(((b**2)-(4*a*c))**0.5))/(2*a)\n",
    "    print(\"el valor de x1 es:\")\n",
    "    print(x1)\n",
    "    print(\"el valor de x2 es:\")\n",
    "    print(x2)\n",
    "    "
   ]
  },
  {
   "cell_type": "code",
   "execution_count": null,
   "id": "c1c0a706",
   "metadata": {},
   "outputs": [],
   "source": []
  }
 ],
 "metadata": {
  "kernelspec": {
   "display_name": "Python 3",
   "language": "python",
   "name": "python3"
  },
  "language_info": {
   "codemirror_mode": {
    "name": "ipython",
    "version": 3
   },
   "file_extension": ".py",
   "mimetype": "text/x-python",
   "name": "python",
   "nbconvert_exporter": "python",
   "pygments_lexer": "ipython3",
   "version": "3.8.8"
  }
 },
 "nbformat": 4,
 "nbformat_minor": 5
}
